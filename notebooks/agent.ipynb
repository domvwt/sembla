{
 "cells": [
  {
   "cell_type": "markdown",
   "metadata": {},
   "source": [
    "# Sembla Agent Demo"
   ]
  },
  {
   "cell_type": "code",
   "execution_count": 1,
   "metadata": {},
   "outputs": [],
   "source": [
    "import os\n",
    "\n",
    "from sembla.schemas.system import SystemState, Message\n",
    "from sembla.system import init_sequential_agent_system\n",
    "from sembla.conversation_history import update_conversation_history\n",
    "from sembla.llm.openai.chat_completion import generate_chat_completion\n",
    "\n",
    "\n",
    "%load_ext autoreload\n",
    "%autoreload 2\n",
    "\n",
    "# Set the OpenAI API key here or in your environment\n",
    "OPENAI_API_KEY = None\n",
    "\n",
    "if OPENAI_API_KEY:\n",
    "    os.environ[\"OPENAI_API_KEY\"] = OPENAI_API_KEY\n"
   ]
  },
  {
   "cell_type": "markdown",
   "metadata": {},
   "source": [
    "**Note:** User query should probably be a dict so that we can support things like multimodal systems."
   ]
  },
  {
   "cell_type": "code",
   "execution_count": 2,
   "metadata": {},
   "outputs": [
    {
     "name": "stdout",
     "output_type": "stream",
     "text": [
      "Initial State:\n",
      "{\n",
      "    \"task\": {\n",
      "        \"name\": null,\n",
      "        \"description\": null,\n",
      "        \"status\": \"UNDEFINED\",\n",
      "        \"max_cycles\": null,\n",
      "        \"current_cycle\": 0\n",
      "    },\n",
      "    \"model\": {\n",
      "        \"name\": \"gpt-3.5-turbo\",\n",
      "        \"temperature\": 0.2,\n",
      "        \"n\": 1,\n",
      "        \"max_tokens\": 2000,\n",
      "        \"frequency_penalty\": 0,\n",
      "        \"presence_penalty\": 0\n",
      "    },\n",
      "    \"memory\": {\n",
      "        \"max_history_message_count\": 100,\n",
      "        \"max_history_token_count\": 1000,\n",
      "        \"conversation_history\": [],\n",
      "        \"conversation_buffer\": [],\n",
      "        \"message_count\": 0,\n",
      "        \"token_count\": 0\n",
      "    },\n",
      "    \"user_query\": \"What is the capital of Ireland?\",\n",
      "    \"available_actions\": [],\n",
      "    \"prompt_processor_outputs\": [],\n",
      "    \"processed_prompt\": null,\n",
      "    \"agent_response\": null,\n",
      "    \"response_processor_outputs\": [],\n",
      "    \"processed_response\": null\n",
      "}\n"
     ]
    }
   ],
   "source": [
    "user_query = \"What is the capital of Ireland?\"\n",
    "\n",
    "initial_state = SystemState(user_query=user_query)\n",
    "print(\"Initial State:\")\n",
    "print(initial_state.to_json())\n"
   ]
  },
  {
   "cell_type": "code",
   "execution_count": 3,
   "metadata": {},
   "outputs": [],
   "source": [
    "def process_user_query(system_state: SystemState) -> SystemState:\n",
    "    \"\"\"Process the user query into a message and add it to the conversation buffer.\"\"\"\n",
    "    prompt = system_state.user_query\n",
    "    assert prompt is not None\n",
    "    message = Message(role=\"user\", content=prompt)\n",
    "    new_memory = system_state.memory.copy(update={\"conversation_buffer\": [message]})\n",
    "    new_state = system_state.copy(update={\n",
    "        \"memory\": new_memory,\n",
    "        \"processed_prompt\": prompt}\n",
    "    )\n",
    "    return new_state\n",
    "\n",
    "def process_agent_response(system_state: SystemState) -> SystemState:\n",
    "    \"\"\"Process the agent response into a message and add it to the conversation buffer.\"\"\"\n",
    "    response = system_state.agent_response\n",
    "    assert response is not None\n",
    "    message = Message(role=\"assistant\", content=response)\n",
    "    new_memory = system_state.memory.copy(update={\"conversation_buffer\": [message]})\n",
    "    new_state = system_state.copy(update={\n",
    "        \"memory\": new_memory,\n",
    "        \"processed_response\": response}\n",
    "    )\n",
    "    return new_state\n"
   ]
  },
  {
   "cell_type": "code",
   "execution_count": 4,
   "metadata": {},
   "outputs": [],
   "source": [
    "agent_system = init_sequential_agent_system([\n",
    "    process_user_query,\n",
    "    update_conversation_history,\n",
    "    generate_chat_completion,\n",
    "    process_agent_response,\n",
    "    update_conversation_history,\n",
    "])"
   ]
  },
  {
   "cell_type": "code",
   "execution_count": 5,
   "metadata": {},
   "outputs": [
    {
     "name": "stdout",
     "output_type": "stream",
     "text": [
      "User Query:\n",
      "What is the capital of Ireland?\n",
      "\n",
      "Agent Response:\n",
      "The capital of Ireland is Dublin.\n",
      "\n",
      "Final State:\n",
      "{\n",
      "    \"task\": {\n",
      "        \"name\": null,\n",
      "        \"description\": null,\n",
      "        \"status\": \"UNDEFINED\",\n",
      "        \"max_cycles\": null,\n",
      "        \"current_cycle\": 1\n",
      "    },\n",
      "    \"model\": {\n",
      "        \"name\": \"gpt-3.5-turbo\",\n",
      "        \"temperature\": 0.2,\n",
      "        \"n\": 1,\n",
      "        \"max_tokens\": 2000,\n",
      "        \"frequency_penalty\": 0,\n",
      "        \"presence_penalty\": 0\n",
      "    },\n",
      "    \"memory\": {\n",
      "        \"max_history_message_count\": 100,\n",
      "        \"max_history_token_count\": 1000,\n",
      "        \"conversation_history\": [\n",
      "            {\n",
      "                \"role\": \"user\",\n",
      "                \"content\": \"What is the capital of Ireland?\",\n",
      "                \"name\": null\n",
      "            },\n",
      "            {\n",
      "                \"role\": \"assistant\",\n",
      "                \"content\": \"The capital of Ireland is Dublin.\",\n",
      "                \"name\": null\n",
      "            }\n",
      "        ],\n",
      "        \"conversation_buffer\": [],\n",
      "        \"message_count\": 2,\n",
      "        \"token_count\": 25\n",
      "    },\n",
      "    \"user_query\": \"What is the capital of Ireland?\",\n",
      "    \"available_actions\": [],\n",
      "    \"prompt_processor_outputs\": [],\n",
      "    \"processed_prompt\": \"What is the capital of Ireland?\",\n",
      "    \"agent_response\": \"The capital of Ireland is Dublin.\",\n",
      "    \"response_processor_outputs\": [],\n",
      "    \"processed_response\": \"The capital of Ireland is Dublin.\"\n",
      "}\n"
     ]
    }
   ],
   "source": [
    "final_state = agent_system(initial_state)\n",
    "agent_response = final_state.agent_response\n",
    "print(\"User Query:\")\n",
    "print(user_query)\n",
    "print()\n",
    "print(\"Agent Response:\")\n",
    "print(agent_response)\n",
    "print()\n",
    "print(\"Final State:\")\n",
    "print(final_state.to_json())"
   ]
  },
  {
   "cell_type": "code",
   "execution_count": null,
   "metadata": {},
   "outputs": [],
   "source": []
  }
 ],
 "metadata": {
  "kernelspec": {
   "display_name": "Python 3.10.4 ('.venv': poetry)",
   "language": "python",
   "name": "python3"
  },
  "language_info": {
   "codemirror_mode": {
    "name": "ipython",
    "version": 3
   },
   "file_extension": ".py",
   "mimetype": "text/x-python",
   "name": "python",
   "nbconvert_exporter": "python",
   "pygments_lexer": "ipython3",
   "version": "3.10.4"
  },
  "orig_nbformat": 4,
  "vscode": {
   "interpreter": {
    "hash": "0fe1140dc6718e0a5f2ce831313f08e375cf47834d5db72f02b310cca5c79061"
   }
  }
 },
 "nbformat": 4,
 "nbformat_minor": 2
}
